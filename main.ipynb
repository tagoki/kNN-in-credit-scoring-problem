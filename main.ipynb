{
 "cells": [
  {
   "cell_type": "code",
   "execution_count": 83,
   "id": "a7c8fac5",
   "metadata": {},
   "outputs": [],
   "source": [
    "import pandas as pd\n",
    "import numpy as np \n",
    "import matplotlib.pyplot as plt\n",
    "from sklearn.preprocessing import MinMaxScaler\n",
    "from sklearn.neighbors import KNeighborsClassifier\n",
    "from sklearn.model_selection import train_test_split"
   ]
  },
  {
   "cell_type": "code",
   "execution_count": 84,
   "id": "c9ac2cdd",
   "metadata": {},
   "outputs": [],
   "source": [
    "data = pd.read_csv('credit_score_dataset.csv')\n",
    "\n",
    "scaler = MinMaxScaler()\n",
    "\n",
    "x = scaler.fit_transform(data[['Gender', 'Age', 'Debt', 'Married', 'BankCustomer', 'InvestmentScore', 'BankRecord','YearsEmployed', 'PriorDefault', 'Employed', 'CreditScore', 'DriversLicense', 'Income']])\n",
    "y = data[['Approved']]\n",
    "\n",
    "X_train, X_test, y_train, y_test = train_test_split(x, y, test_size=0.3, random_state=40)"
   ]
  },
  {
   "cell_type": "code",
   "execution_count": 85,
   "id": "0c5cc43e",
   "metadata": {},
   "outputs": [
    {
     "name": "stdout",
     "output_type": "stream",
     "text": [
      "0.8067632850241546\n"
     ]
    },
    {
     "name": "stderr",
     "output_type": "stream",
     "text": [
      "c:\\Users\\haku\\AppData\\Local\\Programs\\Python\\Python312\\Lib\\site-packages\\sklearn\\neighbors\\_classification.py:239: DataConversionWarning: A column-vector y was passed when a 1d array was expected. Please change the shape of y to (n_samples,), for example using ravel().\n",
      "  return self._fit(X, y)\n"
     ]
    }
   ],
   "source": [
    "model = KNeighborsClassifier(n_neighbors=4)\n",
    "model.fit(X_train, y_train)\n",
    "\n",
    "print(model.score(X_test, y_test))#0.8067632850241546"
   ]
  },
  {
   "cell_type": "code",
   "execution_count": 82,
   "id": "174fe1b0",
   "metadata": {},
   "outputs": [
    {
     "name": "stdout",
     "output_type": "stream",
     "text": [
      "[1]\n"
     ]
    },
    {
     "name": "stderr",
     "output_type": "stream",
     "text": [
      "c:\\Users\\haku\\AppData\\Local\\Programs\\Python\\Python312\\Lib\\site-packages\\sklearn\\utils\\validation.py:2739: UserWarning: X does not have valid feature names, but MinMaxScaler was fitted with feature names\n",
      "  warnings.warn(\n"
     ]
    }
   ],
   "source": [
    "sample = scaler.transform([[\n",
    "    1,        # Gender (1 = male)\n",
    "    32.7,     # Age\n",
    "    2300.0,   # Debt\n",
    "    0,        # Married (0 = not married)\n",
    "    1,        # BankCustomer (1 = is a bank customer)\n",
    "    6.2,      # InvestmentScore (индекс инвестиций)\n",
    "    1,        # BankRecord (1 = good record)\n",
    "    3.1,      # YearsEmployed (3.1 года работы)\n",
    "    0,        # PriorDefault (0 = нет предыдущих дефолтов)\n",
    "    1,        # Employed (1 = employed)\n",
    "    710,      # CreditScore (кредитный рейтинг)\n",
    "    0,        # DriversLicense (0 = без водительского удостоверения)\n",
    "    42000.0   # Income (доход 42 000)\n",
    "]])\n",
    "\n",
    "print(model.predict(sample))"
   ]
  }
 ],
 "metadata": {
  "kernelspec": {
   "display_name": "Python 3",
   "language": "python",
   "name": "python3"
  },
  "language_info": {
   "codemirror_mode": {
    "name": "ipython",
    "version": 3
   },
   "file_extension": ".py",
   "mimetype": "text/x-python",
   "name": "python",
   "nbconvert_exporter": "python",
   "pygments_lexer": "ipython3",
   "version": "3.12.7"
  }
 },
 "nbformat": 4,
 "nbformat_minor": 5
}
